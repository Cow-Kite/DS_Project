{
  "cells": [
    {
      "cell_type": "markdown",
      "metadata": {
        "id": "OI7VEPHMEOm_"
      },
      "source": [
        "# GCN 모델을 이용한 Graph Data training\n"
      ]
    },
    {
      "cell_type": "markdown",
      "metadata": {
        "id": "9oFXeyGTBGME"
      },
      "source": [
        "### 1) 필요한 라이브러리 선언"
      ]
    },
    {
      "cell_type": "code",
      "execution_count": 2,
      "metadata": {
        "id": "nKv3SHpjJbP5"
      },
      "outputs": [],
      "source": [
        "import time\n",
        "import torch\n",
        "import torch_geometric.transforms as T\n",
        "import torch.nn as nn\n",
        "from torch_geometric.nn import GCNConv\n",
        "import torch.nn.functional as F"
      ]
    },
    {
      "cell_type": "markdown",
      "metadata": {
        "id": "StM3yXtOAVrV"
      },
      "source": [
        "### 2) 현재 시간을 기록하여 시간 측정 시작\n",
        "\n"
      ]
    },
    {
      "cell_type": "code",
      "execution_count": 3,
      "metadata": {
        "id": "QKD_IzgRAkw3"
      },
      "outputs": [],
      "source": [
        "start_time = time.time()"
      ]
    },
    {
      "cell_type": "markdown",
      "metadata": {
        "id": "w7UhKXKUAl79"
      },
      "source": [
        "### 3) 장치를 \"cpu\"로 설정"
      ]
    },
    {
      "cell_type": "code",
      "execution_count": 4,
      "metadata": {
        "id": "9xd4IlmaAq1i"
      },
      "outputs": [],
      "source": [
        "device = \"cpu\""
      ]
    },
    {
      "cell_type": "markdown",
      "metadata": {
        "id": "XLMfMzSlAuYX"
      },
      "source": [
        "### 4) Dataset 준비 (Cora)"
      ]
    },
    {
      "cell_type": "code",
      "execution_count": 5,
      "metadata": {
        "colab": {
          "base_uri": "https://localhost:8080/"
        },
        "id": "ZixZRST-Ay_o",
        "outputId": "3975d1b1-2f25-47f7-a99e-76bc536a1ef6"
      },
      "outputs": [
        {
          "name": "stderr",
          "output_type": "stream",
          "text": [
            "Downloading https://github.com/kimiyoung/planetoid/raw/master/data/ind.cora.x\n",
            "Downloading https://github.com/kimiyoung/planetoid/raw/master/data/ind.cora.tx\n",
            "Downloading https://github.com/kimiyoung/planetoid/raw/master/data/ind.cora.allx\n",
            "Downloading https://github.com/kimiyoung/planetoid/raw/master/data/ind.cora.y\n",
            "Downloading https://github.com/kimiyoung/planetoid/raw/master/data/ind.cora.ty\n",
            "Downloading https://github.com/kimiyoung/planetoid/raw/master/data/ind.cora.ally\n",
            "Downloading https://github.com/kimiyoung/planetoid/raw/master/data/ind.cora.graph\n",
            "Downloading https://github.com/kimiyoung/planetoid/raw/master/data/ind.cora.test.index\n",
            "Processing...\n",
            "Done!\n"
          ]
        }
      ],
      "source": [
        "from torch_geometric.datasets import Planetoid\n",
        "dataset = Planetoid(root='./', name='Cora')\n",
        "graph = dataset[0]\n",
        "split = T.RandomNodeSplit(num_val=0.1, num_test=0.2)\n",
        "graph = split(graph)"
      ]
    },
    {
      "cell_type": "markdown",
      "metadata": {
        "id": "0LtPqk_FA1Mv"
      },
      "source": [
        "### 5) 모델 구축: GCN"
      ]
    },
    {
      "cell_type": "code",
      "execution_count": 6,
      "metadata": {
        "id": "5NPzO_NgA9vG"
      },
      "outputs": [],
      "source": [
        "class GCN(torch.nn.Module):\n",
        "    def __init__(self):\n",
        "        super().__init__()\n",
        "        self.conv1 = GCNConv(dataset.num_node_features, 16)\n",
        "        self.conv2 = GCNConv(16, dataset.num_classes)\n",
        "\n",
        "    def forward(self, data):\n",
        "        x, edge_index = data.x, data.edge_index\n",
        "        x = self.conv1(x, edge_index)\n",
        "        x = F.relu(x)\n",
        "        output = self.conv2(x, edge_index)\n",
        "        return output"
      ]
    },
    {
      "cell_type": "markdown",
      "metadata": {
        "id": "iJ-tu5iVA_8D"
      },
      "source": [
        "### 6) GCN 모델을 학습하는 함수 정의\n",
        "입력으로는 모델, 그래프 데이터, 옵티마이저, 손실함수, 에폭 횟수가 주어짐"
      ]
    },
    {
      "cell_type": "code",
      "execution_count": 7,
      "metadata": {
        "id": "CXng3jJhBtKL"
      },
      "outputs": [],
      "source": [
        "def train_node_classifier(model, graph, optimizer, criterion, n_epochs=200):\n",
        "    # 에폭 횟수만큼 학습 반복\n",
        "    for epoch in range(1, n_epochs + 1):\n",
        "        model.train() # 모델을 학습 상태로 전환\n",
        "        optimizer.zero_grad() # 그래디언트 초기화\n",
        "        out = model(graph) # out :예측값\n",
        "        loss = criterion(out[graph.train_mask], graph.y[graph.train_mask]) # loss 계산\n",
        "        loss.backward() # Backpropagation 수행\n",
        "        optimizer.step() # 파라미터 업데이트\n",
        "\n",
        "        pred = out.argmax(dim=1) #out에서 가장 높은 값을 가지는 인덱스를 예측값으로 사용\n",
        "        acc = eval_node_classifier(model, graph, graph.val_mask) # 모델 성능 검증\n",
        "\n",
        "        if epoch % 10 == 0:\n",
        "            print(f'Epoch: {epoch:03d}, Train Loss: {loss:.3f}, Val Acc: {acc:.3f}')\n",
        "\n",
        "    return model"
      ]
    },
    {
      "cell_type": "markdown",
      "metadata": {
        "id": "DK4b-QGcBvJX"
      },
      "source": [
        "### 7) 노드 분류 모델의 성능을 평가하는 함수 정의\n",
        "입력으로는 모델, 그래프, 마스크가 주어짐"
      ]
    },
    {
      "cell_type": "code",
      "execution_count": 8,
      "metadata": {
        "id": "JPO5wL3yB6ZC"
      },
      "outputs": [],
      "source": [
        "def eval_node_classifier(model, graph, mask):\n",
        "\n",
        "    model.eval() # 모델을 평가 모드로 전환\n",
        "    # 모델의 출력 계산 -> argmax함수를 사용하여 출력 텐서에서 각 노드의 예측 클래스를 결정\n",
        "    pred = model(graph).argmax(dim=1)\n",
        "    # 예측된 클래스와 그래프의 실제 클래스를 비교하여 정확하게 분류된 노드의 수 계산\n",
        "    correct = (pred[mask] == graph.y[mask]).sum()\n",
        "    #print(pred[mask] + graph.y[mask])\n",
        "\n",
        "    # 정확도 계산\n",
        "    acc = int(correct) / int(mask.sum())\n",
        "\n",
        "    return acc"
      ]
    },
    {
      "cell_type": "markdown",
      "metadata": {
        "id": "q0pYsDhNB7SI"
      },
      "source": [
        "### 8) 모델 훈련"
      ]
    },
    {
      "cell_type": "code",
      "execution_count": 9,
      "metadata": {
        "colab": {
          "base_uri": "https://localhost:8080/"
        },
        "id": "mG_cPxKOCa6_",
        "outputId": "51e4c3f7-962d-4ae1-af98-e28bd5fdf307"
      },
      "outputs": [
        {
          "name": "stdout",
          "output_type": "stream",
          "text": [
            "Epoch: 010, Train Loss: 0.928, Val Acc: 0.793\n",
            "Epoch: 020, Train Loss: 0.396, Val Acc: 0.867\n",
            "Epoch: 030, Train Loss: 0.244, Val Acc: 0.882\n",
            "Epoch: 040, Train Loss: 0.186, Val Acc: 0.882\n",
            "Epoch: 050, Train Loss: 0.157, Val Acc: 0.886\n",
            "Epoch: 060, Train Loss: 0.142, Val Acc: 0.886\n",
            "Epoch: 070, Train Loss: 0.132, Val Acc: 0.889\n",
            "Epoch: 080, Train Loss: 0.123, Val Acc: 0.882\n",
            "Epoch: 090, Train Loss: 0.115, Val Acc: 0.882\n",
            "Epoch: 100, Train Loss: 0.108, Val Acc: 0.882\n",
            "Epoch: 110, Train Loss: 0.102, Val Acc: 0.882\n",
            "Epoch: 120, Train Loss: 0.097, Val Acc: 0.882\n",
            "Epoch: 130, Train Loss: 0.092, Val Acc: 0.882\n",
            "Epoch: 140, Train Loss: 0.088, Val Acc: 0.882\n",
            "Epoch: 150, Train Loss: 0.085, Val Acc: 0.878\n",
            "Epoch: 160, Train Loss: 0.081, Val Acc: 0.878\n",
            "Epoch: 170, Train Loss: 0.079, Val Acc: 0.878\n",
            "Epoch: 180, Train Loss: 0.076, Val Acc: 0.878\n",
            "Epoch: 190, Train Loss: 0.074, Val Acc: 0.878\n",
            "Epoch: 200, Train Loss: 0.072, Val Acc: 0.878\n"
          ]
        }
      ],
      "source": [
        "gcn = GCN().to(device)\n",
        "optimizer_gcn = torch.optim.Adam(gcn.parameters(), lr=0.01, weight_decay=5e-4)\n",
        "criterion = nn.CrossEntropyLoss()\n",
        "gcn = train_node_classifier(gcn, graph, optimizer_gcn, criterion)"
      ]
    },
    {
      "cell_type": "markdown",
      "metadata": {
        "id": "l2mA6cUnC_Rl"
      },
      "source": [
        "### 9) 결과 분석 및 소요시간 측정"
      ]
    },
    {
      "cell_type": "code",
      "execution_count": 10,
      "metadata": {
        "colab": {
          "base_uri": "https://localhost:8080/"
        },
        "id": "OcR5ZVV_C-xQ",
        "outputId": "2c8251a9-441a-40af-f530-4e6874514567"
      },
      "outputs": [
        {
          "name": "stdout",
          "output_type": "stream",
          "text": [
            "Test Acc: 0.880\n"
          ]
        }
      ],
      "source": [
        "test_acc = eval_node_classifier(gcn, graph, graph.test_mask)\n",
        "print(f'Test Acc: {test_acc:.3f}')"
      ]
    },
    {
      "cell_type": "code",
      "execution_count": 11,
      "metadata": {
        "colab": {
          "base_uri": "https://localhost:8080/"
        },
        "id": "rbu9Zm7wCsGz",
        "outputId": "a62c3f4b-2b85-4c0c-ba4a-b63a9809c7e1"
      },
      "outputs": [
        {
          "name": "stdout",
          "output_type": "stream",
          "text": [
            "총 소요 시간: 10.085초\n"
          ]
        }
      ],
      "source": [
        "# 시간 측정 종료\n",
        "end_time = time.time()\n",
        "print(\"총 소요 시간: %.3f초\" %(end_time - start_time))"
      ]
    }
  ],
  "metadata": {
    "colab": {
      "provenance": []
    },
    "kernelspec": {
      "display_name": "Python 3",
      "name": "python3"
    },
    "language_info": {
      "name": "python"
    }
  },
  "nbformat": 4,
  "nbformat_minor": 0
}
